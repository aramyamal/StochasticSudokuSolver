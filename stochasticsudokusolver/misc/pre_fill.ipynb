{
 "cells": [
  {
   "cell_type": "code",
   "execution_count": 1,
   "metadata": {},
   "outputs": [],
   "source": [
    "import numpy as np\n",
    "\n",
    "#add ../ to the path\n",
    "import sys\n",
    "sys.path.append('../')\n",
    "\n",
    "from sudoku_examples import easy, hard\n",
    "easy = np.array(easy)\n",
    "hard = np.array(hard)"
   ]
  },
  {
   "cell_type": "code",
   "execution_count": 2,
   "metadata": {},
   "outputs": [
    {
     "name": "stdout",
     "output_type": "stream",
     "text": [
      "[[5 3 0 0 7 0 0 0 0]\n",
      " [6 0 0 1 9 5 0 0 0]\n",
      " [0 9 8 0 0 0 0 6 0]\n",
      " [8 0 0 0 6 0 0 0 3]\n",
      " [4 0 0 8 0 3 0 0 1]\n",
      " [7 0 0 0 2 0 0 0 6]\n",
      " [0 6 0 0 0 0 2 8 0]\n",
      " [0 0 0 4 1 9 0 0 5]\n",
      " [0 0 0 0 8 0 0 7 9]]\n"
     ]
    }
   ],
   "source": [
    "print(easy)"
   ]
  },
  {
   "cell_type": "code",
   "execution_count": 3,
   "metadata": {},
   "outputs": [
    {
     "name": "stdout",
     "output_type": "stream",
     "text": [
      "[[0 0 6 1 0 0 0 0 8]\n",
      " [0 8 0 0 9 0 0 3 0]\n",
      " [2 0 0 0 0 5 4 0 0]\n",
      " [4 0 0 0 0 1 8 0 0]\n",
      " [0 3 0 0 7 0 0 4 0]\n",
      " [0 0 7 9 0 0 0 0 3]\n",
      " [0 0 8 4 0 0 0 0 6]\n",
      " [0 2 0 0 5 0 0 8 0]\n",
      " [1 0 0 0 0 2 5 0 0]]\n"
     ]
    }
   ],
   "source": [
    "print(hard)"
   ]
  },
  {
   "cell_type": "code",
   "execution_count": 4,
   "metadata": {},
   "outputs": [],
   "source": [
    "medium = np.array([\n",
    "    [0, 6, 7, 0, 8, 2, 9, 5, 0],\n",
    "    [1, 0, 0, 6, 0, 5, 7, 0, 8],\n",
    "    [0, 0, 8, 7, 1, 0, 0, 6, 0],\n",
    "    [0, 5, 0, 0, 7, 0, 0, 9, 0],\n",
    "    [0, 7, 9, 0, 5, 0, 0, 0, 6],\n",
    "    [2, 0, 0, 8, 0, 6, 0, 7, 0],\n",
    "    [0, 0, 2, 0, 6, 0, 5, 8, 0],\n",
    "    [9, 0, 6, 5, 0, 8, 0, 3, 7],\n",
    "    [0, 0, 5, 0, 0, 7, 6, 1, 0]\n",
    "])"
   ]
  },
  {
   "cell_type": "code",
   "execution_count": 5,
   "metadata": {},
   "outputs": [],
   "source": [
    "# create new sudoku with predetermined values filled in\n",
    "def connected_values(puzzle, i, j):\n",
    "    connected_rows = puzzle[i, :]\n",
    "    connected_columns = puzzle[:, j].flatten()\n",
    "    connected_square = puzzle[i//3*3:i//3*3+3, j//3*3:j//3*3+3].flatten()\n",
    "    connected_values = np.unique(np.concatenate((connected_rows, connected_columns, connected_square)))\n",
    "    connected_values = connected_values[connected_values != 0]\n",
    "    return connected_values\n",
    "\n",
    "def fill_puzzle_first_order(puzzle):\n",
    "    new_puzzle = puzzle.copy()\n",
    "    for i, j in np.argwhere(puzzle == 0):\n",
    "        connected_values_list = connected_values(puzzle, i, j)\n",
    "        possible_values = np.setdiff1d(np.arange(1, 10), connected_values_list)\n",
    "        if len(possible_values) == 1:\n",
    "            new_puzzle[i, j] = possible_values[0]\n",
    "    return new_puzzle\n",
    "\n",
    "def prefill_puzzle(puzzle):\n",
    "    current_puzzle = puzzle.copy()\n",
    "    new_puzzle = fill_puzzle_first_order(current_puzzle)\n",
    "\n",
    "    while not np.array_equal(current_puzzle, new_puzzle):\n",
    "        current_puzzle = new_puzzle.copy()\n",
    "        new_puzzle = fill_puzzle_first_order(current_puzzle)\n",
    "    return new_puzzle\n"
   ]
  },
  {
   "cell_type": "code",
   "execution_count": 6,
   "metadata": {},
   "outputs": [
    {
     "name": "stdout",
     "output_type": "stream",
     "text": [
      "[[0 0 6 1 0 0 0 0 8]\n",
      " [0 8 0 0 9 0 0 3 0]\n",
      " [2 0 0 0 0 5 4 0 0]\n",
      " [4 0 0 0 0 1 8 0 0]\n",
      " [0 3 0 0 7 0 0 4 0]\n",
      " [0 0 7 9 0 0 0 0 3]\n",
      " [0 0 8 4 0 0 0 0 6]\n",
      " [0 2 0 0 5 0 0 8 0]\n",
      " [1 0 0 0 0 2 5 0 0]]\n"
     ]
    }
   ],
   "source": [
    "hard_pre_filled = prefill_puzzle(hard)\n",
    "print(hard_pre_filled)"
   ]
  },
  {
   "cell_type": "code",
   "execution_count": 7,
   "metadata": {},
   "outputs": [
    {
     "name": "stdout",
     "output_type": "stream",
     "text": [
      "number of added cells: 0\n"
     ]
    }
   ],
   "source": [
    "print(f\"number of added cells: {len(np.argwhere(hard_pre_filled != hard))}\")   "
   ]
  },
  {
   "cell_type": "code",
   "execution_count": 8,
   "metadata": {},
   "outputs": [
    {
     "name": "stdout",
     "output_type": "stream",
     "text": [
      "[[5 3 4 6 7 8 9 1 2]\n",
      " [6 7 2 1 9 5 3 4 8]\n",
      " [1 9 8 3 4 2 5 6 7]\n",
      " [8 5 9 7 6 1 4 2 3]\n",
      " [4 2 6 8 5 3 7 9 1]\n",
      " [7 1 3 9 2 4 8 5 6]\n",
      " [9 6 1 5 3 7 2 8 4]\n",
      " [2 8 7 4 1 9 6 3 5]\n",
      " [3 4 5 2 8 6 1 7 9]]\n"
     ]
    }
   ],
   "source": [
    "easy_pre_filled = prefill_puzzle(easy)\n",
    "print(easy_pre_filled)"
   ]
  },
  {
   "cell_type": "code",
   "execution_count": 9,
   "metadata": {},
   "outputs": [
    {
     "name": "stdout",
     "output_type": "stream",
     "text": [
      "number of added cells: 51\n"
     ]
    }
   ],
   "source": [
    "print(f\"number of added cells: {len(np.argwhere(easy_pre_filled != easy))}\")"
   ]
  },
  {
   "cell_type": "code",
   "execution_count": 10,
   "metadata": {},
   "outputs": [],
   "source": [
    "import time as time\n",
    "\n",
    "def return_possible_values_matrix_naked_pair(puzzle):\n",
    "    possible_values_matrix = np.zeros((9, 9, 9), dtype=bool)\n",
    "    for i, j in np.argwhere(puzzle == 0):\n",
    "        connected_values_list = connected_values(puzzle, i, j)\n",
    "        possible_values = np.setdiff1d(np.arange(1, 10), connected_values_list)\n",
    "        possible_values_matrix[i, j] = np.isin(np.arange(1, 10), possible_values)\n",
    "\n",
    "    for i, j in np.argwhere(puzzle == 0):\n",
    "        for k, l in np.argwhere(puzzle == 0):\n",
    "            if (i, j) != (k, l):\n",
    "                intersect = np.logical_and(possible_values_matrix[i, j], possible_values_matrix[k, l])\n",
    "                if np.sum(intersect) == 2:\n",
    "                    possible_values_matrix[i, j] = intersect\n",
    "                    possible_values_matrix[k, l] = intersect\n",
    "    return possible_values_matrix\n",
    "\n",
    "def prefill_puzzle_naked_pair(puzzle):\n",
    "    current_puzzle = puzzle.copy()\n",
    "\n",
    "    possible_values_matrix = return_possible_values_matrix_naked_pair(current_puzzle)\n",
    "    new_puzzle = puzzle.copy()\n",
    "    indices_to_fill = np.argwhere(np.sum(possible_values_matrix, axis=2) == 1)\n",
    "    for i, j in indices_to_fill:\n",
    "        new_puzzle[i, j] = np.argmax(possible_values_matrix[i, j]) + 1\n",
    "\n",
    "    while not np.array_equal(current_puzzle, new_puzzle):\n",
    "        current_puzzle = new_puzzle.copy()\n",
    "\n",
    "        possible_values_matrix = return_possible_values_matrix_naked_pair(current_puzzle)\n",
    "        new_puzzle = current_puzzle.copy()\n",
    "        indices_to_fill = np.argwhere(np.sum(possible_values_matrix, axis=2) == 1)\n",
    "        for i, j in indices_to_fill:\n",
    "            new_puzzle[i, j] = np.argmax(possible_values_matrix[i, j]) + 1\n",
    "    return new_puzzle"
   ]
  }
 ],
 "metadata": {
  "kernelspec": {
   "display_name": "Python 3",
   "language": "python",
   "name": "python3"
  },
  "language_info": {
   "codemirror_mode": {
    "name": "ipython",
    "version": 3
   },
   "file_extension": ".py",
   "mimetype": "text/x-python",
   "name": "python",
   "nbconvert_exporter": "python",
   "pygments_lexer": "ipython3",
   "version": "3.10.5"
  }
 },
 "nbformat": 4,
 "nbformat_minor": 2
}
